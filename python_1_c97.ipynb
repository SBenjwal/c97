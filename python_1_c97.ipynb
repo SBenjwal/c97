{
  "nbformat": 4,
  "nbformat_minor": 0,
  "metadata": {
    "colab": {
      "provenance": [],
      "authorship_tag": "ABX9TyPuxFqJODPnl1wAlPpATMrL",
      "include_colab_link": true
    },
    "kernelspec": {
      "name": "python3",
      "display_name": "Python 3"
    },
    "language_info": {
      "name": "python"
    }
  },
  "cells": [
    {
      "cell_type": "markdown",
      "metadata": {
        "id": "view-in-github",
        "colab_type": "text"
      },
      "source": [
        "<a href=\"https://colab.research.google.com/github/SBenjwal/c97/blob/main/python_1_c97.ipynb\" target=\"_parent\"><img src=\"https://colab.research.google.com/assets/colab-badge.svg\" alt=\"Open In Colab\"/></a>"
      ]
    },
    {
      "cell_type": "code",
      "execution_count": 6,
      "metadata": {
        "colab": {
          "base_uri": "https://localhost:8080/"
        },
        "id": "I5OJNExfovj_",
        "outputId": "2e58bf63-aee7-4827-80cf-dc5e50addbda"
      },
      "outputs": [
        {
          "output_type": "stream",
          "name": "stdout",
          "text": [
            "What is num110\n",
            "What is num220\n",
            "<class 'int'>\n",
            "<class 'int'>\n"
          ]
        }
      ],
      "source": [
        "num1 = 5\n",
        "num2 = 9.5\n",
        "\n",
        "num1 = int(input(\"What is num1\"))\n",
        "num2 = int(input(\"What is num2\"))\n",
        "\n",
        "print(type(num1))\n",
        "print(type(num2))"
      ]
    },
    {
      "cell_type": "markdown",
      "source": [
        "create a function"
      ],
      "metadata": {
        "id": "Mu-ARxOspuu6"
      }
    },
    {
      "cell_type": "code",
      "source": [
        "def addNum(n1,n2):\n",
        "  added = n1 + n2\n",
        "  return(added)\n",
        "\n",
        "addNum(num1,num2)"
      ],
      "metadata": {
        "colab": {
          "base_uri": "https://localhost:8080/"
        },
        "id": "v8cPMkQhpMc_",
        "outputId": "792d47dc-45fc-48c6-a802-f79bac7285ad"
      },
      "execution_count": 7,
      "outputs": [
        {
          "output_type": "execute_result",
          "data": {
            "text/plain": [
              "30"
            ]
          },
          "metadata": {},
          "execution_count": 7
        }
      ]
    },
    {
      "cell_type": "code",
      "source": [
        "def subNum(n1,n2):\n",
        "  subtracted = n1 - n2\n",
        "  return(subtracted)\n",
        "\n",
        "subNum(num1,num2)"
      ],
      "metadata": {
        "colab": {
          "base_uri": "https://localhost:8080/"
        },
        "id": "jOBdZNmQq4_8",
        "outputId": "b921d9c3-babf-4a79-f12b-32f20b7b8847"
      },
      "execution_count": 8,
      "outputs": [
        {
          "output_type": "execute_result",
          "data": {
            "text/plain": [
              "-10"
            ]
          },
          "metadata": {},
          "execution_count": 8
        }
      ]
    },
    {
      "cell_type": "code",
      "source": [
        "def multiplyNum(n1,n2):\n",
        "  product = n1*n2\n",
        "  return(product)\n",
        "\n",
        "multiplyNum(num1,num2)"
      ],
      "metadata": {
        "colab": {
          "base_uri": "https://localhost:8080/"
        },
        "id": "zIJTTOuGrNyA",
        "outputId": "4303b177-6e08-4db1-c614-7b34df37654c"
      },
      "execution_count": 10,
      "outputs": [
        {
          "output_type": "execute_result",
          "data": {
            "text/plain": [
              "200"
            ]
          },
          "metadata": {},
          "execution_count": 10
        }
      ]
    },
    {
      "cell_type": "code",
      "source": [
        "def divisionNum(n1,n2):\n",
        "  divided = n1/n2\n",
        "  return(divided)\n",
        "\n",
        "divisionNum(num1,num2)"
      ],
      "metadata": {
        "colab": {
          "base_uri": "https://localhost:8080/"
        },
        "id": "ZDv7osSQrcLT",
        "outputId": "09222ca9-d6ea-40aa-d57b-9df66b0629bb"
      },
      "execution_count": 13,
      "outputs": [
        {
          "output_type": "execute_result",
          "data": {
            "text/plain": [
              "0.5"
            ]
          },
          "metadata": {},
          "execution_count": 13
        }
      ]
    },
    {
      "cell_type": "markdown",
      "source": [
        "create a calculator with 4 options\n",
        "addition\n",
        "subtraction\n",
        "multiplication\n",
        "divison"
      ],
      "metadata": {
        "id": "cMeUZHKpr1eg"
      }
    },
    {
      "cell_type": "code",
      "source": [
        "print(\"Choose operation from following\\noption 1 - addition\\noption 2 - subtraction\\n option 3 - multiplication\\n option 4 - divison\")\n",
        "option = input(\"Enter option number\\n:1-4: \")\n",
        "\n",
        "#function\n",
        "def calculations(option):\n",
        "  if(option == \"1\" or option == \"2\" or option == \"3\" or option == \"4\"):\n",
        "    num1 = int(input(\"What is num 1?\"))\n",
        "    num2 = int(input(\"What is num 2?\"))\n",
        "\n",
        "    if option == \"1\":\n",
        "      print(\"sum\", num1, \"+\", num2, \"=\", addNum(num1,num2))\n",
        "    elif option == \"2\":\n",
        "      print(\"subtract\", num1, \"-\", num2, \"=\", subNum(num1,num2))\n",
        "    elif option == \"3\":\n",
        "      print(\"product\", num1, \"*\", num2, \"=\", multiplyNum(num1,num2))\n",
        "    elif option == \"4\":\n",
        "      print(\"divide\", num1, \"/\", num2, \"=\", divisionNum(num1,num2))\n",
        "  else:\n",
        "    print(\"Invalid number\")\n",
        "\n",
        "calculations(option)\n",
        "\n",
        "\n"
      ],
      "metadata": {
        "colab": {
          "base_uri": "https://localhost:8080/"
        },
        "id": "iCS__LW-r_fR",
        "outputId": "49aeeba9-dca4-4024-98ac-a28288acc08c"
      },
      "execution_count": 17,
      "outputs": [
        {
          "output_type": "stream",
          "name": "stdout",
          "text": [
            "Choose operation from following\n",
            "option 1 - addition\n",
            "option 2 - subtraction\n",
            " option 3 - multiplication\n",
            " option 4 - divison\n",
            "Enter option number\n",
            ":1-4: 3\n",
            "What is num 1?5\n",
            "What is num 2?6\n",
            "product 5 * 6 = 30\n"
          ]
        }
      ]
    }
  ]
}